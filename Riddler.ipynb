{
 "cells": [
  {
   "cell_type": "code",
   "execution_count": 1,
   "metadata": {},
   "outputs": [],
   "source": [
    "import numpy as np"
   ]
  },
  {
   "cell_type": "code",
   "execution_count": 149,
   "metadata": {},
   "outputs": [],
   "source": [
    "years = np.arange(2000,2100)\n",
    "months = np.arange(1,13)\n",
    "days = np.arange(1,32)"
   ]
  },
  {
   "cell_type": "code",
   "execution_count": 150,
   "metadata": {},
   "outputs": [],
   "source": [
    "attacks = [None] * 100\n",
    "for y in years:\n",
    "    for m in months:\n",
    "        for d in days:\n",
    "            if(d==31 and m in [9,4,6,11]): continue\n",
    "            if((d> 28 and m == 2)): continue\n",
    "            if(d*m == y-2000):\n",
    "                if(attacks[y-2000] is not None):\n",
    "                    attacks[y-2000].append([d,m,y])\n",
    "                else:\n",
    "                    attacks[y-2000] = [[d,m,y]]"
   ]
  },
  {
   "cell_type": "code",
   "execution_count": 151,
   "metadata": {},
   "outputs": [
    {
     "name": "stdout",
     "output_type": "stream",
     "text": [
      "[None, [[1, 1, 2001]], [[2, 1, 2002], [1, 2, 2002]], [[3, 1, 2003], [1, 3, 2003]], [[4, 1, 2004], [2, 2, 2004], [1, 4, 2004]], [[5, 1, 2005], [1, 5, 2005]], [[6, 1, 2006], [3, 2, 2006], [2, 3, 2006], [1, 6, 2006]], [[7, 1, 2007], [1, 7, 2007]], [[8, 1, 2008], [4, 2, 2008], [2, 4, 2008], [1, 8, 2008]], [[9, 1, 2009], [3, 3, 2009], [1, 9, 2009]], [[10, 1, 2010], [5, 2, 2010], [2, 5, 2010], [1, 10, 2010]], [[11, 1, 2011], [1, 11, 2011]], [[12, 1, 2012], [6, 2, 2012], [4, 3, 2012], [3, 4, 2012], [2, 6, 2012], [1, 12, 2012]], [[13, 1, 2013]], [[14, 1, 2014], [7, 2, 2014], [2, 7, 2014]], [[15, 1, 2015], [5, 3, 2015], [3, 5, 2015]], [[16, 1, 2016], [8, 2, 2016], [4, 4, 2016], [2, 8, 2016]], [[17, 1, 2017]], [[18, 1, 2018], [9, 2, 2018], [6, 3, 2018], [3, 6, 2018], [2, 9, 2018]], [[19, 1, 2019]], [[20, 1, 2020], [10, 2, 2020], [5, 4, 2020], [4, 5, 2020], [2, 10, 2020]], [[21, 1, 2021], [7, 3, 2021], [3, 7, 2021]], [[22, 1, 2022], [11, 2, 2022], [2, 11, 2022]], [[23, 1, 2023]], [[24, 1, 2024], [12, 2, 2024], [8, 3, 2024], [6, 4, 2024], [4, 6, 2024], [3, 8, 2024], [2, 12, 2024]], [[25, 1, 2025], [5, 5, 2025]], [[26, 1, 2026], [13, 2, 2026]], [[27, 1, 2027], [9, 3, 2027], [3, 9, 2027]], [[28, 1, 2028], [14, 2, 2028], [7, 4, 2028], [4, 7, 2028]], [[29, 1, 2029]], [[30, 1, 2030], [15, 2, 2030], [10, 3, 2030], [6, 5, 2030], [5, 6, 2030], [3, 10, 2030]], [[31, 1, 2031]], [[16, 2, 2032], [8, 4, 2032], [4, 8, 2032]], [[11, 3, 2033], [3, 11, 2033]], [[17, 2, 2034]], [[7, 5, 2035], [5, 7, 2035]], [[18, 2, 2036], [12, 3, 2036], [9, 4, 2036], [6, 6, 2036], [4, 9, 2036], [3, 12, 2036]], None, [[19, 2, 2038]], [[13, 3, 2039]], [[20, 2, 2040], [10, 4, 2040], [8, 5, 2040], [5, 8, 2040], [4, 10, 2040]], None, [[21, 2, 2042], [14, 3, 2042], [7, 6, 2042], [6, 7, 2042]], None, [[22, 2, 2044], [11, 4, 2044], [4, 11, 2044]], [[15, 3, 2045], [9, 5, 2045], [5, 9, 2045]], [[23, 2, 2046]], None, [[24, 2, 2048], [16, 3, 2048], [12, 4, 2048], [8, 6, 2048], [6, 8, 2048], [4, 12, 2048]], [[7, 7, 2049]], [[25, 2, 2050], [10, 5, 2050], [5, 10, 2050]], [[17, 3, 2051]], [[26, 2, 2052], [13, 4, 2052]], None, [[27, 2, 2054], [18, 3, 2054], [9, 6, 2054], [6, 9, 2054]], [[11, 5, 2055], [5, 11, 2055]], [[28, 2, 2056], [14, 4, 2056], [8, 7, 2056], [7, 8, 2056]], [[19, 3, 2057]], None, None, [[20, 3, 2060], [15, 4, 2060], [12, 5, 2060], [10, 6, 2060], [6, 10, 2060], [5, 12, 2060]], None, None, [[21, 3, 2063], [9, 7, 2063], [7, 9, 2063]], [[16, 4, 2064], [8, 8, 2064]], [[13, 5, 2065]], [[22, 3, 2066], [11, 6, 2066], [6, 11, 2066]], None, [[17, 4, 2068]], [[23, 3, 2069]], [[14, 5, 2070], [10, 7, 2070], [7, 10, 2070]], None, [[24, 3, 2072], [18, 4, 2072], [12, 6, 2072], [9, 8, 2072], [8, 9, 2072], [6, 12, 2072]], None, None, [[25, 3, 2075], [15, 5, 2075]], [[19, 4, 2076]], [[11, 7, 2077], [7, 11, 2077]], [[26, 3, 2078], [13, 6, 2078]], None, [[20, 4, 2080], [16, 5, 2080], [10, 8, 2080], [8, 10, 2080]], [[27, 3, 2081], [9, 9, 2081]], None, None, [[28, 3, 2084], [21, 4, 2084], [14, 6, 2084], [12, 7, 2084], [7, 12, 2084]], [[17, 5, 2085]], None, [[29, 3, 2087]], [[22, 4, 2088], [11, 8, 2088], [8, 11, 2088]], None, [[30, 3, 2090], [18, 5, 2090], [15, 6, 2090], [10, 9, 2090], [9, 10, 2090]], [[13, 7, 2091]], [[23, 4, 2092]], [[31, 3, 2093]], None, [[19, 5, 2095]], [[24, 4, 2096], [16, 6, 2096], [12, 8, 2096], [8, 12, 2096]], None, [[14, 7, 2098]], [[11, 9, 2099], [9, 11, 2099]]]\n"
     ]
    }
   ],
   "source": [
    "print(attacks)"
   ]
  },
  {
   "cell_type": "code",
   "execution_count": 152,
   "metadata": {},
   "outputs": [],
   "source": [
    "#Remove nones\n",
    "a = [t for t in attacks if t != None]\n",
    "\n",
    "year = []\n",
    "nattacks = []\n",
    "for i,ass in enumerate(a):\n",
    "    year.append(ass[0][2])\n",
    "    nattacks.append(len(ass))\n"
   ]
  },
  {
   "cell_type": "markdown",
   "metadata": {},
   "source": [
    "# Total number of attacks between 2001-2099"
   ]
  },
  {
   "cell_type": "code",
   "execution_count": 153,
   "metadata": {},
   "outputs": [
    {
     "name": "stdout",
     "output_type": "stream",
     "text": [
      "212\n"
     ]
    }
   ],
   "source": [
    "#Total number of attacks\n",
    "print(np.sum(nattacks))"
   ]
  },
  {
   "cell_type": "markdown",
   "metadata": {},
   "source": [
    "# Year with most attacks"
   ]
  },
  {
   "cell_type": "code",
   "execution_count": 154,
   "metadata": {},
   "outputs": [
    {
     "name": "stdout",
     "output_type": "stream",
     "text": [
      "2024\n",
      "7\n"
     ]
    }
   ],
   "source": [
    "#Year with most attacks\n",
    "print(year[np.argmax(nattacks)])\n",
    "print(np.max(nattacks))"
   ]
  },
  {
   "cell_type": "code",
   "execution_count": 161,
   "metadata": {},
   "outputs": [
    {
     "name": "stdout",
     "output_type": "stream",
     "text": [
      "[2000, 2037, 2041, 2043, 2047, 2053, 2058, 2059, 2061, 2062, 2067, 2071, 2073, 2074, 2079, 2082, 2083, 2086, 2089, 2094, 2097]\n"
     ]
    }
   ],
   "source": [
    "#Least attacks (anything ending in a prime above 12)\n",
    "nyears = []\n",
    "for i,l in enumerate(attacks):\n",
    "    if(l is None):\n",
    "        nyears.append(i+2000)\n",
    "print(nyears)        "
   ]
  },
  {
   "cell_type": "markdown",
   "metadata": {},
   "source": [
    "# Largest gap between attacks"
   ]
  },
  {
   "cell_type": "code",
   "execution_count": 162,
   "metadata": {},
   "outputs": [],
   "source": [
    "import datetime as dt"
   ]
  },
  {
   "cell_type": "code",
   "execution_count": 163,
   "metadata": {},
   "outputs": [
    {
     "name": "stdout",
     "output_type": "stream",
     "text": [
      "[datetime.date(2001, 1, 1), datetime.date(2002, 1, 2), datetime.date(2002, 2, 1), datetime.date(2003, 1, 3), datetime.date(2003, 3, 1)]\n"
     ]
    }
   ],
   "source": [
    "#Lets convert to dates\n",
    "lal = []\n",
    "for attack in a:\n",
    "    for dattack in attack:\n",
    "        #Conv\n",
    "        #print(dattack)\n",
    "        #print(', '.join(str(x) for x in dattack))\n",
    "        dd = dt.date(dattack[2],dattack[1],dattack[0])\n",
    "        lal.append(dd)\n",
    "print(lal[:5])"
   ]
  },
  {
   "cell_type": "code",
   "execution_count": 164,
   "metadata": {},
   "outputs": [
    {
     "name": "stdout",
     "output_type": "stream",
     "text": [
      "1097\n",
      "146\n",
      "2057-03-19 2060-03-20\n"
     ]
    }
   ],
   "source": [
    "#Date gaps\n",
    "dgaps = []\n",
    "for i,l in enumerate(lal):\n",
    "    if(i == 0): continue\n",
    "    #print(l)\n",
    "    #print(lal[i-1])\n",
    "    #print((l-lal[i-1]).days)\n",
    "    dgaps.append((l-lal[i-1]).days)\n",
    "   \n",
    "print(np.max(dgaps))\n",
    "print(np.argmax(dgaps))\n",
    "print(lal[146],lal[147])"
   ]
  },
  {
   "cell_type": "code",
   "execution_count": null,
   "metadata": {},
   "outputs": [],
   "source": []
  }
 ],
 "metadata": {
  "kernelspec": {
   "display_name": "Python 3",
   "language": "python",
   "name": "python3"
  },
  "language_info": {
   "codemirror_mode": {
    "name": "ipython",
    "version": 3
   },
   "file_extension": ".py",
   "mimetype": "text/x-python",
   "name": "python",
   "nbconvert_exporter": "python",
   "pygments_lexer": "ipython3",
   "version": "3.5.3"
  }
 },
 "nbformat": 4,
 "nbformat_minor": 2
}
